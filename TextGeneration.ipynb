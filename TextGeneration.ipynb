{
 "cells": [
  {
   "cell_type": "code",
   "execution_count": 1,
   "metadata": {},
   "outputs": [
    {
     "name": "stdout",
     "output_type": "stream",
     "text": [
      "WARNING:tensorflow:From C:\\Users\\Trisha\\anaconda3\\lib\\site-packages\\keras\\src\\losses.py:2976: The name tf.losses.sparse_softmax_cross_entropy is deprecated. Please use tf.compat.v1.losses.sparse_softmax_cross_entropy instead.\n",
      "\n"
     ]
    }
   ],
   "source": [
    "import numpy as np\n",
    "from keras.models import Sequential\n",
    "from keras.layers import LSTM, Dropout, Dense"
   ]
  },
  {
   "cell_type": "code",
   "execution_count": 2,
   "metadata": {},
   "outputs": [
    {
     "name": "stdout",
     "output_type": "stream",
     "text": [
      "Given script has 581877 characters\n"
     ]
    }
   ],
   "source": [
    "text = open('Sherlock Holmes.txt').read().lower()\n",
    "print('Given script has ' + str(len(text)) + ' characters')"
   ]
  },
  {
   "cell_type": "code",
   "execution_count": 3,
   "metadata": {},
   "outputs": [
    {
     "name": "stdout",
     "output_type": "stream",
     "text": [
      "{'j', \"'\", 'c', 'a', 'p', ' ', 's', 't', 'i', 'x', 'f', 'y', 'o', 'e', 'l', 'g', '¨', 'q', 'h', 'w', 'v', 'b', 'u', 'd', 'n', 'z', 'm', 'r', ',', 'k'}\n"
     ]
    }
   ],
   "source": [
    "text = text[1302:]\n",
    "for ch in ['0','1', '2', '3', '4', '5', '6', '7', '8', '9', '!', '\"', '$', '%', '&', '~', '`', '(', ')', '*',\n",
    "          '-', '/', ';', '@', '?', ':', '©', '¢', 'ã', '\\xa0', '\\n', '\\r', '.']:\n",
    "       if ch in text:\n",
    "             text=text.replace(ch,' ')\n",
    "print(set(text))                "
   ]
  },
  {
   "cell_type": "code",
   "execution_count": 4,
   "metadata": {},
   "outputs": [],
   "source": [
    "def window_transform(text, window_size, step_size):    \n",
    "    inputs = []\n",
    "    outputs = []\n",
    "    \n",
    "    n_batches = int((len(text)-window_size) / step_size)    \n",
    "    \n",
    "    for i in range(n_batches-1):\n",
    "        a = text[i * step_size:((i * step_size) + window_size)]\n",
    "        inputs.append(a)\n",
    "        b = text[(i * step_size) + window_size]\n",
    "        outputs.append(b)\n",
    "\n",
    "    return inputs,outputs\n",
    "\n",
    "# Calling the window function\n",
    "window_size = 50\n",
    "step_size = 3\n",
    "inputs, outputs = window_transform(text, window_size, step_size)"
   ]
  },
  {
   "cell_type": "code",
   "execution_count": 5,
   "metadata": {},
   "outputs": [
    {
     "name": "stdout",
     "output_type": "stream",
     "text": [
      "[' ', \"'\", ',', 'a', 'b', 'c', 'd', 'e', 'f', 'g', 'h', 'i', 'j', 'k', 'l', 'm', 'n', 'o', 'p', 'q', 'r', 's', 't', 'u', 'v', 'w', 'x', 'y', 'z', '¨']\n"
     ]
    }
   ],
   "source": [
    "chars = sorted(list(set(text)))\n",
    "print(chars)"
   ]
  },
  {
   "cell_type": "code",
   "execution_count": 6,
   "metadata": {},
   "outputs": [],
   "source": [
    "# Encoding \n",
    "chars_to_indices = dict((c, i) for i, c in enumerate(chars))\n",
    "\n",
    "# Decoding\n",
    "indices_to_chars = dict((i, c) for i, c in enumerate(chars))"
   ]
  },
  {
   "cell_type": "code",
   "execution_count": 7,
   "metadata": {},
   "outputs": [],
   "source": [
    "def encode_io_pairs(text, window_size, step_size):    \n",
    "    num_chars = len(chars)\n",
    "    \n",
    "    # cut up text into character input/output pairs\n",
    "    inputs, outputs = window_transform(text, window_size, step_size)\n",
    "    \n",
    "    X = np.zeros((len(inputs), window_size, num_chars), dtype=bool)\n",
    "    y = np.zeros((len(inputs), num_chars), dtype=bool)\n",
    "\n",
    "    \n",
    "    # loop over inputs/outputs and tranform and store in X/y\n",
    "    for i, sentence in enumerate(inputs):\n",
    "        for t, char in enumerate(sentence):\n",
    "            X[i, t, chars_to_indices[char]] = 1\n",
    "        y[i, chars_to_indices[outputs[i]]] = 1\n",
    "        \n",
    "    return X,y\n",
    "\n",
    "X, y = encode_io_pairs(text, window_size, step_size)"
   ]
  },
  {
   "cell_type": "code",
   "execution_count": 8,
   "metadata": {},
   "outputs": [
    {
     "name": "stdout",
     "output_type": "stream",
     "text": [
      "WARNING:tensorflow:From C:\\Users\\Trisha\\anaconda3\\lib\\site-packages\\keras\\src\\backend.py:873: The name tf.get_default_graph is deprecated. Please use tf.compat.v1.get_default_graph instead.\n",
      "\n",
      "WARNING:tensorflow:From C:\\Users\\Trisha\\anaconda3\\lib\\site-packages\\keras\\src\\optimizers\\__init__.py:309: The name tf.train.Optimizer is deprecated. Please use tf.compat.v1.train.Optimizer instead.\n",
      "\n",
      "Epoch 1/10\n",
      "WARNING:tensorflow:From C:\\Users\\Trisha\\anaconda3\\lib\\site-packages\\keras\\src\\utils\\tf_utils.py:492: The name tf.ragged.RaggedTensorValue is deprecated. Please use tf.compat.v1.ragged.RaggedTensorValue instead.\n",
      "\n",
      "40/40 [==============================] - 19s 349ms/step - loss: 3.0182\n",
      "Epoch 2/10\n",
      "40/40 [==============================] - 13s 319ms/step - loss: 2.8289\n",
      "Epoch 3/10\n",
      "40/40 [==============================] - 13s 318ms/step - loss: 2.7844\n",
      "Epoch 4/10\n",
      "40/40 [==============================] - 13s 315ms/step - loss: 2.7075\n",
      "Epoch 5/10\n",
      "40/40 [==============================] - 13s 315ms/step - loss: 2.6161\n",
      "Epoch 6/10\n",
      "40/40 [==============================] - 13s 315ms/step - loss: 2.5169\n",
      "Epoch 7/10\n",
      "40/40 [==============================] - 13s 325ms/step - loss: 2.4505\n",
      "Epoch 8/10\n",
      "40/40 [==============================] - 13s 318ms/step - loss: 2.4062\n",
      "Epoch 9/10\n",
      "40/40 [==============================] - 13s 314ms/step - loss: 2.3644\n",
      "Epoch 10/10\n",
      "40/40 [==============================] - 13s 315ms/step - loss: 2.3343\n"
     ]
    },
    {
     "data": {
      "text/plain": [
       "<keras.src.callbacks.History at 0x1c78f49e470>"
      ]
     },
     "execution_count": 8,
     "metadata": {},
     "output_type": "execute_result"
    }
   ],
   "source": [
    "# Designing the model\n",
    "model = Sequential()\n",
    "model.add(LSTM(120, input_shape=(window_size, len(chars))))\n",
    "model.add(Dropout(0.22))\n",
    "model.add(Dense(len(chars), activation='linear'))\n",
    "model.add(Dense(y.shape[1], activation='softmax'))\n",
    "\n",
    "# Compiling the model\n",
    "model.compile(loss='categorical_crossentropy', optimizer='adam')\n",
    "\n",
    "# Subsetting data for an example\n",
    "Xsmall = X[:20000,:,:]\n",
    "ysmall = y[:20000,:]\n",
    "\n",
    "# Model training\n",
    "model.fit(Xsmall, ysmall, batch_size=500, epochs=10)"
   ]
  },
  {
   "cell_type": "code",
   "execution_count": 9,
   "metadata": {},
   "outputs": [],
   "source": [
    "def predict_next_chars(model, input_chars, num_to_predict):     \n",
    "    # create output\n",
    "    predicted_chars = ''\n",
    "    for i in range(num_to_predict):\n",
    "        # convert this round's predicted characters to numerical input    \n",
    "        x_test = np.zeros((1, window_size, len(chars)))\n",
    "        for t, char in enumerate(input_chars):\n",
    "            x_test[0, t, chars_to_indices[char]] = 1.\n",
    "\n",
    "        # make this round's prediction\n",
    "        test_predict = model.predict(x_test,verbose = 0)[0]\n",
    "\n",
    "        # translate numerical prediction back to characters\n",
    "        r = np.argmax(test_predict)                           # predict class of each test input\n",
    "        d = indices_to_chars[r] \n",
    "\n",
    "        # update predicted_chars and input\n",
    "        predicted_chars+=d\n",
    "        input_chars+=d\n",
    "        input_chars = input_chars[1:]\n",
    "    return predicted_chars"
   ]
  },
  {
   "cell_type": "code",
   "execution_count": 10,
   "metadata": {},
   "outputs": [
    {
     "name": "stdout",
     "output_type": "stream",
     "text": [
      "Complete sequence: otion akin to love for irene adler  all emotions, and that o\n",
      "Input sequence: otion akin to love for irene adler  all emotions, \n",
      "Output sequence: an  he the\n"
     ]
    }
   ],
   "source": [
    "start = 89\n",
    "num_to_predict = 10\n",
    "input_chars = text[start: start + window_size]\n",
    "print('Complete sequence:', text[start:start + window_size + num_to_predict])\n",
    "print('Input sequence:', input_chars)\n",
    "print('Output sequence:', predict_next_chars(model, input_chars, num_to_predict = num_to_predict))"
   ]
  },
  {
   "cell_type": "code",
   "execution_count": null,
   "metadata": {},
   "outputs": [],
   "source": []
  },
  {
   "cell_type": "code",
   "execution_count": null,
   "metadata": {},
   "outputs": [],
   "source": [
    "\n"
   ]
  },
  {
   "cell_type": "code",
   "execution_count": null,
   "metadata": {},
   "outputs": [],
   "source": []
  }
 ],
 "metadata": {
  "kernelspec": {
   "display_name": "Python 3 (ipykernel)",
   "language": "python",
   "name": "python3"
  },
  "language_info": {
   "codemirror_mode": {
    "name": "ipython",
    "version": 3
   },
   "file_extension": ".py",
   "mimetype": "text/x-python",
   "name": "python",
   "nbconvert_exporter": "python",
   "pygments_lexer": "ipython3",
   "version": "3.10.12"
  }
 },
 "nbformat": 4,
 "nbformat_minor": 2
}
